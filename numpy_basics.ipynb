{
 "cells": [
  {
   "cell_type": "code",
   "execution_count": 4,
   "id": "b666c0d7-4d98-4576-8596-669b41ccea39",
   "metadata": {},
   "outputs": [],
   "source": [
    "import numpy as np"
   ]
  },
  {
   "cell_type": "code",
   "execution_count": 26,
   "id": "4f7cab40-eda0-44cb-88e4-896018374259",
   "metadata": {},
   "outputs": [],
   "source": [
    "#Create a list to store the daily sales of a local shop\n",
    "daily_sales_list=[100,150,50,250,190,160,200]"
   ]
  },
  {
   "cell_type": "code",
   "execution_count": 27,
   "id": "f40ab9a4-4b92-4d5c-898e-a7896e5843d4",
   "metadata": {},
   "outputs": [],
   "source": [
    "#Convert this list to a numpy array\n",
    "daily_sales=np.array(daily_sales_list)"
   ]
  },
  {
   "cell_type": "code",
   "execution_count": 9,
   "id": "c8ac453e-4b20-4b7c-846c-3de86cb8b3de",
   "metadata": {},
   "outputs": [
    {
     "data": {
      "text/plain": [
       "array([100, 150,  50, 250, 190, 160, 200])"
      ]
     },
     "execution_count": 9,
     "metadata": {},
     "output_type": "execute_result"
    }
   ],
   "source": [
    "daily_sales"
   ]
  },
  {
   "cell_type": "code",
   "execution_count": 13,
   "id": "abad0519-8015-4613-a371-fd7e9b2cc011",
   "metadata": {},
   "outputs": [
    {
     "name": "stdout",
     "output_type": "stream",
     "text": [
      "Sales array:  [100 150  50 250 190 160 200]\n",
      "Type of daily_sales:  <class 'numpy.ndarray'>\n",
      "Datatype of elements in daily_sales:  int64\n",
      "Shape of daily_sales:  (7,)\n",
      "Number of dimensions of daily_sales:  1\n"
     ]
    }
   ],
   "source": [
    "#Array properties\n",
    "print(\"Sales array: \",daily_sales)\n",
    "print(\"Type of daily_sales: \",type(daily_sales))\n",
    "print(\"Datatype of elements in daily_sales: \",daily_sales.dtype)\n",
    "print(\"Shape of daily_sales: \",daily_sales.shape)\n",
    "print(\"Number of dimensions of daily_sales: \",daily_sales.ndim)"
   ]
  },
  {
   "cell_type": "code",
   "execution_count": 28,
   "id": "0807908f-fa08-4f1a-9025-1a4913572d19",
   "metadata": {},
   "outputs": [
    {
     "name": "stdout",
     "output_type": "stream",
     "text": [
      "Discounted prices(10%):  [ 90. 135.  45. 225. 171. 144. 180.]\n",
      "Integer valued discounted price:  [ 90 135  45 225 171 144 180]\n"
     ]
    }
   ],
   "source": [
    "#Simple operations\n",
    "#Lets say there was initially a 10% discount\n",
    "discount_factor=0.9\n",
    "discount_sales= daily_sales * discount_factor\n",
    "print(\"Discounted prices(10%): \",discount_sales) #Note that here the output will be in float, like 90. 135. here . means its float 90.0 but shortened,\n",
    "#you can make the output integer by using .astype(int)\n",
    "print(\"Integer valued discounted price: \",discount_sales.astype(int))"
   ]
  },
  {
   "cell_type": "code",
   "execution_count": 21,
   "id": "bec42aa3-0907-4004-a877-3620606b91af",
   "metadata": {},
   "outputs": [
    {
     "name": "stdout",
     "output_type": "stream",
     "text": [
      "Prices after adding shipping charge:  [105 155  55 255 195 165 205]\n"
     ]
    }
   ],
   "source": [
    "#Lets add a shipping price of $5\n",
    "total_price= daily_sales + 5\n",
    "print(\"Prices after adding shipping charge: \",total_price)"
   ]
  },
  {
   "cell_type": "code",
   "execution_count": 23,
   "id": "36507f95-57a7-4b94-9c45-625a109a0ced",
   "metadata": {},
   "outputs": [
    {
     "name": "stdout",
     "output_type": "stream",
     "text": [
      "Days with high profit:  [False False False  True  True False  True]\n"
     ]
    }
   ],
   "source": [
    "#Compare the sales to a target value\n",
    "profit_days= daily_sales > 170\n",
    "print(\"Days with high profit: \",profit_days)"
   ]
  },
  {
   "cell_type": "code",
   "execution_count": 36,
   "id": "e108a27b-cfd0-448c-8a4b-4742a86b49d3",
   "metadata": {},
   "outputs": [
    {
     "name": "stdout",
     "output_type": "stream",
     "text": [
      "Sales on day 1:  100\n",
      "Sales on last day:  200\n",
      "Sales on first three days:  [100 150  50]\n",
      "Sales on day 4 and 7:  [250 200]\n"
     ]
    }
   ],
   "source": [
    "#Indexes\n",
    "print(\"Sales on day 1: \",daily_sales[0])\n",
    "print(\"Sales on last day: \",daily_sales[-1])\n",
    "print(\"Sales on first three days: \",daily_sales[0:3])\n",
    "print(\"Sales on day 4 and 7: \",daily_sales[[3,6]])"
   ]
  },
  {
   "cell_type": "code",
   "execution_count": 38,
   "id": "efa76273-2dd4-4d30-9b9c-8e98a0a8d872",
   "metadata": {},
   "outputs": [
    {
     "data": {
      "text/plain": [
       "array([[100],\n",
       "       [150],\n",
       "       [ 50],\n",
       "       [250],\n",
       "       [190],\n",
       "       [160],\n",
       "       [200]])"
      ]
     },
     "execution_count": 38,
     "metadata": {},
     "output_type": "execute_result"
    }
   ],
   "source": [
    "#Reshape the array\n",
    "new_sales=daily_sales.reshape(7,1)\n",
    "new_sales"
   ]
  },
  {
   "cell_type": "code",
   "execution_count": 39,
   "id": "2fa46f32-98cb-49c7-8d53-03203c7075b6",
   "metadata": {},
   "outputs": [],
   "source": [
    "#Make a sale for 6 days, sunday->shop closed\n",
    "sales_array=[100,150,50,250,190,160]"
   ]
  },
  {
   "cell_type": "code",
   "execution_count": 40,
   "id": "9cc14c81-3999-42f2-9b02-704aee36a831",
   "metadata": {},
   "outputs": [],
   "source": [
    "sales_array= np.array(sales_array)"
   ]
  },
  {
   "cell_type": "code",
   "execution_count": 48,
   "id": "5b027213-0bd6-4774-9dda-68ff1b5f3b37",
   "metadata": {},
   "outputs": [
    {
     "data": {
      "text/plain": [
       "array([[100, 150,  50],\n",
       "       [250, 190, 160]])"
      ]
     },
     "execution_count": 48,
     "metadata": {},
     "output_type": "execute_result"
    }
   ],
   "source": [
    "sales_array=sales_array.reshape(2,3)\n",
    "sales_array"
   ]
  },
  {
   "cell_type": "code",
   "execution_count": 49,
   "id": "d64565f5-7c15-482e-bc31-5593470bacbc",
   "metadata": {},
   "outputs": [
    {
     "data": {
      "text/plain": [
       "np.int64(50)"
      ]
     },
     "execution_count": 49,
     "metadata": {},
     "output_type": "execute_result"
    }
   ],
   "source": [
    "#access a value in this 2D array\n",
    "sales_array[0,2]"
   ]
  },
  {
   "cell_type": "code",
   "execution_count": 69,
   "id": "2f837a17-3553-4f31-88a4-90968293a61e",
   "metadata": {},
   "outputs": [
    {
     "name": "stdout",
     "output_type": "stream",
     "text": [
      "Sales of first three days:  [100 150  50]\n",
      "Sales of first three days:  [[250 190 160]]\n",
      "Sales on last three days:  [250 190 160]\n",
      "Sales on last three days:  250\n"
     ]
    }
   ],
   "source": [
    "#If i want the first row, 0->first row and :->all col\n",
    "print(\"Sales of first three days: \",sales_array[0])\n",
    "\n",
    "#note that 1:5 means give me row with index 1 till row with index 5(excluded) meaning itll give you 2nd,3rd,4th row\n",
    "print(\"Sales of first three days: \",sales_array[1:5]) #Note if it is [3:5] returns []\n",
    "#OR\n",
    "print(\"Sales on last three days: \",sales_array[1,:])"
   ]
  },
  {
   "cell_type": "code",
   "execution_count": 71,
   "id": "9c48ae4f-f6f5-4059-aba7-ff22179feb77",
   "metadata": {},
   "outputs": [
    {
     "data": {
      "text/plain": [
       "array([100, 150,  50, 250, 190, 160, 200])"
      ]
     },
     "execution_count": 71,
     "metadata": {},
     "output_type": "execute_result"
    }
   ],
   "source": [
    "daily_sales"
   ]
  },
  {
   "cell_type": "code",
   "execution_count": 95,
   "id": "5e8f250b-81e9-4918-9b0d-7cdddafdcbae",
   "metadata": {},
   "outputs": [
    {
     "name": "stdout",
     "output_type": "stream",
     "text": [
      "Total sales:  1100\n",
      "Average sales:  157.14\n",
      "Max sale:  250\n",
      "Day of max sale:  4\n",
      "Min sale:  50\n",
      "Day of min sale:  3\n",
      "Middle value of sale:  160.0\n",
      "Daily sales differ from mean by:  61.35\n"
     ]
    }
   ],
   "source": [
    "#Aggregate Function\n",
    "print(\"Total sales: \",np.sum(daily_sales))\n",
    "print(\"Average sales: \",round(np.mean(daily_sales),2))\n",
    "print(\"Max sale: \",np.max(daily_sales))\n",
    "print(\"Day of max sale: \",np.argmax(daily_sales)+1) #argmax->index\n",
    "\n",
    "print(\"Min sale: \",np.min(daily_sales))\n",
    "print(\"Day of min sale: \",np.argmin(daily_sales)+1)\n",
    "print(\"Middle value of sale: \",np.median(daily_sales))\n",
    "print(\"Daily sales differ from mean by: \",round(np.std(daily_sales),2))"
   ]
  },
  {
   "cell_type": "code",
   "execution_count": 113,
   "id": "6fa7d0a7-2ec2-4ec4-9779-4f3b2fd4d17a",
   "metadata": {},
   "outputs": [
    {
     "data": {
      "text/plain": [
       "array([[1., 0., 0., 0.],\n",
       "       [0., 1., 0., 0.],\n",
       "       [0., 0., 1., 0.]])"
      ]
     },
     "execution_count": 113,
     "metadata": {},
     "output_type": "execute_result"
    }
   ],
   "source": [
    "#Creating arrays with specific values\n",
    "np.zeros((2,3)).astype(int)\n",
    "np.ones((3,4))\n",
    "np.full((2,3),3)\n",
    "np.eye(3,3)\n",
    "np.random.rand(3,3)\n",
    "np.eye(3,4)"
   ]
  },
  {
   "cell_type": "code",
   "execution_count": 117,
   "id": "484881da-58e0-447d-a1f5-a3750a6c6ccc",
   "metadata": {},
   "outputs": [
    {
     "name": "stdout",
     "output_type": "stream",
     "text": [
      "More sales data:  [100 150  50 250 190 160 200 135 370]\n"
     ]
    }
   ],
   "source": [
    "#Concatenate array\n",
    "more_sales=np.array([135,370])\n",
    "combined_sales=np.concatenate((daily_sales,more_sales))\n",
    "print(\"More sales data: \",combined_sales)"
   ]
  },
  {
   "cell_type": "code",
   "execution_count": 124,
   "id": "d5e1e24e-570f-4d0c-8c95-98fad4df23af",
   "metadata": {},
   "outputs": [
    {
     "name": "stdout",
     "output_type": "stream",
     "text": [
      "Split in Three halves:  [array([100, 150,  50]), array([250, 190, 160]), array([200, 135, 370])]\n"
     ]
    },
    {
     "data": {
      "text/plain": [
       "[array([100, 150,  50, 250]), array([190, 160, 200, 135, 370])]"
      ]
     },
     "execution_count": 124,
     "metadata": {},
     "output_type": "execute_result"
    }
   ],
   "source": [
    "#Splitting an array\n",
    "half=np.split(combined_sales,3)\n",
    "print(\"Split in Three halves: \",half)\n",
    "#split at a particular index\n",
    "np.split(combined_sales,[4])"
   ]
  }
 ],
 "metadata": {
  "kernelspec": {
   "display_name": "Python 3 (ipykernel)",
   "language": "python",
   "name": "python3"
  },
  "language_info": {
   "codemirror_mode": {
    "name": "ipython",
    "version": 3
   },
   "file_extension": ".py",
   "mimetype": "text/x-python",
   "name": "python",
   "nbconvert_exporter": "python",
   "pygments_lexer": "ipython3",
   "version": "3.13.5"
  }
 },
 "nbformat": 4,
 "nbformat_minor": 5
}
